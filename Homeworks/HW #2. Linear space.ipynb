{
 "cells": [
  {
   "cell_type": "markdown",
   "metadata": {},
   "source": [
    "## Урок №2. Матрицы и матричные операции."
   ]
  },
  {
   "cell_type": "code",
   "execution_count": 1,
   "metadata": {},
   "outputs": [],
   "source": [
    "import numpy as np"
   ]
  },
  {
   "cell_type": "markdown",
   "metadata": {},
   "source": [
    "### Установить, какие произведения матриц  AB  и  BA  определены, и найти размерности полученных матриц:"
   ]
  },
  {
   "cell_type": "markdown",
   "metadata": {},
   "source": [
    "а)  A  — матрица  4×2 ,  B  — матрица  4×2;  \n",
    "AB и BA - неопределены (недопустимая операция, нельзя перемножить)"
   ]
  },
  {
   "cell_type": "markdown",
   "metadata": {},
   "source": [
    "б)  A  — матрица  2×5 ,  B  — матрица  5×3;  \n",
    "AB - $2\\times 3$, BA - неопределена, нельзя перемножить"
   ]
  },
  {
   "cell_type": "markdown",
   "metadata": {},
   "source": [
    "в)  A  — матрица  8×3 ,  B  — матрица  3×8;  \n",
    "AB - $8\\times 8$, BA - $3\\times 3$"
   ]
  },
  {
   "cell_type": "markdown",
   "metadata": {},
   "source": [
    "г)  A  — квадратная матрица  4×4 ,  B  — квадратная матрица  4×4;  \n",
    "AB - $4\\times 4$, BA - $4\\times 4$."
   ]
  },
  {
   "cell_type": "markdown",
   "metadata": {},
   "source": [
    "### Найти сумму и произведение матриц $A=\\begin{pmatrix}\n",
    "1 & -2\\\\ \n",
    "3 & 0\n",
    "\\end{pmatrix}$ и $B=\\begin{pmatrix}\n",
    "4 & -1\\\\ \n",
    "0 & 5\n",
    "\\end{pmatrix}.$"
   ]
  },
  {
   "cell_type": "code",
   "execution_count": 2,
   "metadata": {},
   "outputs": [
    {
     "name": "stdout",
     "output_type": "stream",
     "text": [
      "Сумма: A + B\n",
      "[[ 5 -3]\n",
      " [ 3  5]]\n",
      "Произведение: AB\n",
      "[[  4 -11]\n",
      " [ 12  -3]]\n"
     ]
    }
   ],
   "source": [
    "A = np.array([[1, -2], [3, 0]])\n",
    "B = np.array([[4, -1], [0, 5]])\n",
    "\n",
    "print(f'Сумма: A + B\\n{A + B}')\n",
    "print(f'Произведение: AB\\n{np.dot(A, B)}')"
   ]
  },
  {
   "cell_type": "markdown",
   "metadata": {},
   "source": [
    "### Из закономерностей сложения и умножения матриц на число можно сделать вывод, что матрицы одного размера образуют линейное пространство. Вычислить линейную комбинацию $3A-2B+4C$ для матриц $A=\\begin{pmatrix}\n",
    "1 & 7\\\\ \n",
    "3 & -6\n",
    "\\end{pmatrix}$, $B=\\begin{pmatrix}\n",
    "0 & 5\\\\ \n",
    "2 & -1\n",
    "\\end{pmatrix}$, $C=\\begin{pmatrix}\n",
    "2 & -4\\\\ \n",
    "1 & 1\n",
    "\\end{pmatrix}.$"
   ]
  },
  {
   "cell_type": "markdown",
   "metadata": {},
   "source": [
    "$3\\begin{pmatrix}\n",
    "1 & 7\\\\ \n",
    "3 & -6\n",
    "\\end{pmatrix}$- $2\\begin{pmatrix}\n",
    "0 & 5\\\\ \n",
    "2 & -1\n",
    "\\end{pmatrix}$+ $4\\begin{pmatrix}\n",
    "2 & -4\\\\ \n",
    "1 & 1\n",
    "\\end{pmatrix}$ = $\\begin{pmatrix}\n",
    "3 & 21\\\\ \n",
    "9 & -18\n",
    "\\end{pmatrix}$- $\\begin{pmatrix}\n",
    "0 & 10\\\\ \n",
    "4 & -2\n",
    "\\end{pmatrix}$+ $\\begin{pmatrix}\n",
    "8 & -16\\\\ \n",
    "4 & 4\n",
    "\\end{pmatrix}$ = $\\begin{pmatrix}\n",
    "11 & -5\\\\ \n",
    "9 & -12\n",
    "\\end{pmatrix}$"
   ]
  },
  {
   "cell_type": "code",
   "execution_count": 3,
   "metadata": {},
   "outputs": [
    {
     "name": "stdout",
     "output_type": "stream",
     "text": [
      "Линейная комбинация  3𝐴 − 2𝐵 + 4𝐶 для матриц 𝐴 = \n",
      "[[ 11  -5]\n",
      " [  9 -12]]\n",
      "\n"
     ]
    }
   ],
   "source": [
    "A = np.array([[1, 7], [3, -6]])\n",
    "B = np.array([[0, 5], [2 ,-1]])\n",
    "C = np.array([[2 ,-4],[1, 1]])\n",
    "\n",
    "B2 = -2*B\n",
    "\n",
    "print(f\"Линейная комбинация  3𝐴 − 2𝐵 + 4𝐶 для матриц 𝐴 = \\n{3*A + B2 + 4*C}\\n\")"
   ]
  },
  {
   "cell_type": "markdown",
   "metadata": {},
   "source": [
    "### Дана матрица $A=\\begin{pmatrix}\n",
    "4 & 1\\\\ \n",
    "5 & -2\\\\ \n",
    "2 & 3\n",
    "\\end{pmatrix}$. Вычислить $AA^{T}$ и $A^{T}A$."
   ]
  },
  {
   "cell_type": "markdown",
   "metadata": {},
   "source": [
    "$AA^{T}=\\begin{pmatrix}\n",
    "17 & 18 & 11\\\\ \n",
    "18 & 29 & 4\\\\ \n",
    "11 & 4 & 13\n",
    "\\end{pmatrix}$, $A^{T}A=\\begin{pmatrix}\n",
    "45 & 0 \\\\ \n",
    "0 & 14\n",
    "\\end{pmatrix}$."
   ]
  },
  {
   "cell_type": "code",
   "execution_count": 4,
   "metadata": {},
   "outputs": [
    {
     "name": "stdout",
     "output_type": "stream",
     "text": [
      "Матрица AA^T\n",
      "[[17 18 11]\n",
      " [18 29  4]\n",
      " [11  4 13]]\n",
      "Матрица A^T*A\n",
      "[[45  0]\n",
      " [ 0 14]]\n"
     ]
    }
   ],
   "source": [
    "A = np.array([[4, 1], [5, -2], [2, 3]])\n",
    "AT = A.T\n",
    "print(f'Матрица AA^T\\n{np.dot(A, AT)}')\n",
    "print(f'Матрица A^T*A\\n{np.dot(AT, A)}')"
   ]
  },
  {
   "cell_type": "markdown",
   "metadata": {},
   "source": [
    "### Написать на Python функцию для перемножения двух произвольных матриц, не используя NumPy."
   ]
  },
  {
   "cell_type": "code",
   "execution_count": 5,
   "metadata": {},
   "outputs": [],
   "source": [
    "def matrix_func(matrix_A, matrix_B):\n",
    "    sum_ = 0     \n",
    "    matrix_ = []    \n",
    "    matrix_С = [] \n",
    "    if len(matrix_B)!=len(matrix_A[0]): \n",
    "        print(\"Матрицы не могут быть перемножены\")       \n",
    "    else:\n",
    "        for z in range(0, len(matrix_A)):\n",
    "            for j in range(0,len(matrix_B[0])):\n",
    "                for i in range(0,len(matrix_A[0])):\n",
    "                   sum_ += matrix_A[z][i]*matrix_B[i][j]\n",
    "                matrix_.append(sum_)\n",
    "                sum_ = 0\n",
    "            matrix_С.append(matrix_)\n",
    "            matrix_ = []           \n",
    "    return matrix_С"
   ]
  },
  {
   "cell_type": "code",
   "execution_count": 6,
   "metadata": {},
   "outputs": [
    {
     "data": {
      "text/plain": [
       "[[4, -11], [12, -3]]"
      ]
     },
     "execution_count": 6,
     "metadata": {},
     "output_type": "execute_result"
    }
   ],
   "source": [
    "a = np.array([[1, -2], [3, 0]])\n",
    "b = np.array([[4, -1], [0, 5]])\n",
    "matrix_func(a, b)"
   ]
  },
  {
   "cell_type": "markdown",
   "metadata": {},
   "source": [
    "## Вторая часть ДЗ."
   ]
  },
  {
   "cell_type": "markdown",
   "metadata": {},
   "source": [
    "### Вычислить определитель:"
   ]
  },
  {
   "cell_type": "markdown",
   "metadata": {},
   "source": [
    "а) $\\begin{vmatrix}\n",
    "sinx & -cosx\\\\ \n",
    "cosx & sinx\n",
    "\\end{vmatrix};$"
   ]
  },
  {
   "cell_type": "markdown",
   "metadata": {},
   "source": [
    "$\\begin{vmatrix}\n",
    "sinx ;& -cosx\\\\ \n",
    "cosx ;& sinx\n",
    "\\end{vmatrix} = sinx \\cdot sinx + cosx \\cdot cosx = sin^2x +  cos^2x = 1$"
   ]
  },
  {
   "cell_type": "code",
   "execution_count": 7,
   "metadata": {},
   "outputs": [
    {
     "name": "stdout",
     "output_type": "stream",
     "text": [
      "Определитель: sin^2(x)+cos^2(x) = 1\n"
     ]
    }
   ],
   "source": [
    "A = np.array([[4, 1], [5, -2]])\n",
    "print(f'Определитель: sin^2(x)+cos^2(x) = 1')"
   ]
  },
  {
   "cell_type": "markdown",
   "metadata": {},
   "source": [
    "б) $\\begin{vmatrix}\n",
    "4 & 2 & 3\\\\ \n",
    "0 & 5 & 1\\\\ \n",
    "0 & 0 & 9\n",
    "\\end{vmatrix};$"
   ]
  },
  {
   "cell_type": "markdown",
   "metadata": {},
   "source": [
    "$\\begin{vmatrix}\n",
    "4 & 2 & 3\\\\ \n",
    "0 & 5 & 1\\\\ \n",
    "0 & 0 & 9\n",
    "\\end{vmatrix} = 4 \\cdot 5 \\cdot 9 = 180$"
   ]
  },
  {
   "cell_type": "code",
   "execution_count": 8,
   "metadata": {},
   "outputs": [
    {
     "name": "stdout",
     "output_type": "stream",
     "text": [
      "Определитель: 4 * 5 * 9 = 180\n",
      "Определитель: 180\n"
     ]
    }
   ],
   "source": [
    "A = np.array([[4, 2, 3], [0, 5, 1], [0, 0, 9]])\n",
    "print(f'Определитель: 4 * 5 * 9 = 180')\n",
    "print(f'Определитель: {np.linalg.det(A):.0f}')"
   ]
  },
  {
   "cell_type": "markdown",
   "metadata": {},
   "source": [
    "в) $\\begin{vmatrix}\n",
    "1 & 2 & 3\\\\ \n",
    "4 & 5 & 6\\\\ \n",
    "7 & 8 & 9\n",
    "\\end{vmatrix}$"
   ]
  },
  {
   "cell_type": "markdown",
   "metadata": {},
   "source": [
    "$\\begin{vmatrix}\n",
    "1 & 2 & 3\\\\ \n",
    "4 & 5 & 6\\\\ \n",
    "7 & 8 & 9\n",
    "\\end{vmatrix} = 1 \\cdot \\begin{vmatrix}\n",
    "5 & 6\\\\ \n",
    "8 & 9\n",
    "\\end{vmatrix}  - 2 \\cdot \\begin{vmatrix}\n",
    "4  & 6\\\\ \n",
    "7  & 9\n",
    "\\end{vmatrix} + 3 \\cdot \\begin{vmatrix}\n",
    "4 & 5\\\\ \n",
    "7 & 8\n",
    "\\end{vmatrix} = -3 + 12 - 9 = 0  $"
   ]
  },
  {
   "cell_type": "code",
   "execution_count": 9,
   "metadata": {},
   "outputs": [
    {
     "name": "stdout",
     "output_type": "stream",
     "text": [
      "Определитель: -0\n"
     ]
    }
   ],
   "source": [
    "A = np.array([[1, 2, 3], [4, 5, 6], [7, 8, 9]])\n",
    "print(f'Определитель: {np.linalg.det(A):.0f}')"
   ]
  },
  {
   "cell_type": "markdown",
   "metadata": {},
   "source": [
    "### Определитель матрицы  A  равен  4 . Найти:"
   ]
  },
  {
   "cell_type": "markdown",
   "metadata": {},
   "source": [
    "а) $det(A^{2}) = det(AA) = |A| \\cdot |A| = 4 \\cdot 4 = 16$;\n",
    "\n",
    "б) $det(A^{T}) = det(A)  = 4$;\n",
    "\n",
    "в) $det(2A) = 2^2 \\cdot |A|  = 16 $."
   ]
  },
  {
   "cell_type": "markdown",
   "metadata": {},
   "source": [
    "### Доказать, что матрица вырожденная."
   ]
  },
  {
   "cell_type": "markdown",
   "metadata": {},
   "source": [
    "$\\begin{pmatrix}\n",
    "-2 & 7 & -3\\\\ \n",
    "4 & -14 & 6\\\\ \n",
    "-3 & 7 & 13\n",
    "\\end{pmatrix}$"
   ]
  },
  {
   "cell_type": "markdown",
   "metadata": {},
   "source": [
    "Матрица называется сингулярной, или вырожденной, если ее определитель равен нулю.\n",
    "Если две строки (столбца) матрицы линейно зависимы, то определитель этой матрицы равен нулю.\n",
    "Т.к. первая строка = (-2) умножить на вторую строку, т.е. они линейно зависимы, то определитель = 0\n",
    "\n",
    "$\\begin{vmatrix}\n",
    "-2 & 7 & -3\\\\ \n",
    "4 & -14 & 6\\\\ \n",
    "3 & 7 & 13\n",
    "\\end{vmatrix} = -2 \\cdot \\begin{vmatrix}\n",
    "-14 & 6\\\\ \n",
    "7 & 13\n",
    "\\end{vmatrix}  - 7 \\cdot \\begin{vmatrix}\n",
    "4  & 6\\\\ \n",
    "3  & 13\n",
    "\\end{vmatrix} - 3 \\cdot \\begin{vmatrix}\n",
    "4 & -14\\\\ \n",
    "3 & 7\n",
    "\\end{vmatrix} = -2 \\cdot (-182 -42) -7 \\cdot (52 - 18) -3 \\cdot (28 + 52) = 448 - 238 - 210 = 0  $"
   ]
  },
  {
   "cell_type": "code",
   "execution_count": 10,
   "metadata": {},
   "outputs": [
    {
     "name": "stdout",
     "output_type": "stream",
     "text": [
      "Определитель: 0\n"
     ]
    }
   ],
   "source": [
    "A = np.array([[-2, 7, -3], [4, -14, 6], [-3, 7, 13]])\n",
    "print(f'Определитель: {np.linalg.det(A):.0f}')"
   ]
  },
  {
   "cell_type": "markdown",
   "metadata": {},
   "source": [
    "### Найти ранг матрицы:"
   ]
  },
  {
   "cell_type": "markdown",
   "metadata": {},
   "source": [
    "а) $\\begin{pmatrix}\n",
    "1 & 2 & 3\\\\ \n",
    "1 & 1 & 1\\\\ \n",
    "2 & 3 & 4\n",
    "\\end{pmatrix};$"
   ]
  },
  {
   "cell_type": "code",
   "execution_count": 11,
   "metadata": {},
   "outputs": [
    {
     "name": "stdout",
     "output_type": "stream",
     "text": [
      "[[1 2 3]\n",
      " [1 1 1]\n",
      " [2 3 4]]\n",
      "Ранг матрицы: 2\n"
     ]
    }
   ],
   "source": [
    "a = np.array([[1, 2, 3], [1, 1, 1], [2, 3, 4]])\n",
    "\n",
    "print(f'{a}')\n",
    "print(f'Ранг матрицы: {np.linalg.matrix_rank(a)}')"
   ]
  },
  {
   "cell_type": "markdown",
   "metadata": {},
   "source": [
    "б) $\\begin{pmatrix}\n",
    "0 & 0 & 2 & 1\\\\ \n",
    "0 & 0 & 2 & 2\\\\ \n",
    "0 & 0 & 4 & 3\\\\ \n",
    "2 & 3 & 5 & 6\n",
    "\\end{pmatrix}.$"
   ]
  },
  {
   "cell_type": "code",
   "execution_count": 12,
   "metadata": {},
   "outputs": [
    {
     "name": "stdout",
     "output_type": "stream",
     "text": [
      "[[0 0 2 1]\n",
      " [0 0 2 2]\n",
      " [0 0 4 3]\n",
      " [2 3 5 6]]\n",
      "Ранг матрицы: 3\n"
     ]
    }
   ],
   "source": [
    "b = np.array([[0, 0, 2, 1], [0, 0, 2, 2], [0, 0, 4, 3], [2, 3, 5, 6]])\n",
    "\n",
    "print(f'{b}')\n",
    "print(f'Ранг матрицы: {np.linalg.matrix_rank(b)}')"
   ]
  },
  {
   "cell_type": "code",
   "execution_count": null,
   "metadata": {},
   "outputs": [],
   "source": []
  }
 ],
 "metadata": {
  "kernelspec": {
   "display_name": "Python 3",
   "language": "python",
   "name": "python3"
  },
  "language_info": {
   "codemirror_mode": {
    "name": "ipython",
    "version": 3
   },
   "file_extension": ".py",
   "mimetype": "text/x-python",
   "name": "python",
   "nbconvert_exporter": "python",
   "pygments_lexer": "ipython3",
   "version": "3.7.6"
  },
  "toc": {
   "base_numbering": 1,
   "nav_menu": {},
   "number_sections": true,
   "sideBar": true,
   "skip_h1_title": false,
   "title_cell": "Table of Contents",
   "title_sidebar": "Contents",
   "toc_cell": false,
   "toc_position": {},
   "toc_section_display": true,
   "toc_window_display": false
  }
 },
 "nbformat": 4,
 "nbformat_minor": 2
}
