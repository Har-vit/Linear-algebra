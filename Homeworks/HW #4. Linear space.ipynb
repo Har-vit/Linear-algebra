{
 "cells": [
  {
   "cell_type": "markdown",
   "metadata": {},
   "source": [
    "### Урок 6. Системы линейных уравнений. Часть 1."
   ]
  },
  {
   "cell_type": "code",
   "execution_count": 1,
   "metadata": {},
   "outputs": [],
   "source": [
    "import numpy as np"
   ]
  },
  {
   "cell_type": "markdown",
   "metadata": {},
   "source": [
    "#### Решить систему уравнений методом Гаусса:"
   ]
  },
  {
   "cell_type": "markdown",
   "metadata": {},
   "source": [
    "$\\begin{cases}\n",
    "x_{1}+x_{2}-x_{3}-2x_{4}=0, \\\\\n",
    "2x_{1}+x_{2}-x_{3}+x_{4}=-2, \\\\\n",
    "x_{1}+x_{2}-3x_{3}+x_{4}=4.\n",
    "\\end{cases}$"
   ]
  },
  {
   "cell_type": "markdown",
   "metadata": {},
   "source": [
    "$\\begin{pmatrix}\n",
    "\\left.\\begin{matrix}\n",
    "1 & 1 & -1 & -2 \\\\ \n",
    "2 & 1 & -1 & 1 \\\\ \n",
    "1 & 1 & -3 & 1\n",
    "\\end{matrix}\\right|\n",
    "\\begin{matrix}\n",
    "0\\\\ \n",
    "-2\\\\\n",
    "4\n",
    "\\end{matrix}\n",
    "\\end{pmatrix}$"
   ]
  },
  {
   "cell_type": "markdown",
   "metadata": {},
   "source": [
    "$\\begin{pmatrix}\n",
    "\\left.\\begin{matrix}\n",
    "1 & 1 & -1 & -2 \\\\ \n",
    "0 & -1 & -3 & 5 \\\\ \n",
    "0 & 0 & -2 & 3\n",
    "\\end{matrix}\\right|\n",
    "\\begin{matrix}\n",
    "0\\\\ \n",
    "-2\\\\\n",
    "4\n",
    "\\end{matrix}\n",
    "\\end{pmatrix}$"
   ]
  },
  {
   "cell_type": "markdown",
   "metadata": {},
   "source": [
    "$\\begin{cases}x_1 + x_2 - x_3 - 2x_4 = 0\\\\ -x_2 + x_3 + 5x_4 = -2 \\\\ x_3 - \\frac{3}{2}x_4 = -2\\end{cases}$"
   ]
  },
  {
   "cell_type": "markdown",
   "metadata": {},
   "source": [
    "Получившаяся система имеет бесконечное число решений, т.к. $x_4$ может принимать любые значения, $x_4=c$"
   ]
  },
  {
   "cell_type": "markdown",
   "metadata": {},
   "source": [
    "$\\begin{cases} x_1= -x_2+x_3+2c\\\\ x_2=2+x_3+5c \\\\ x_3=-2+\\frac{3}{2}c\\end{cases}$"
   ]
  },
  {
   "cell_type": "markdown",
   "metadata": {},
   "source": [
    "#### Проверить на совместность и выяснить, сколько решений будет иметь система линейных уравнений:"
   ]
  },
  {
   "cell_type": "markdown",
   "metadata": {},
   "source": [
    "а) $\\begin{cases}\n",
    "3x_{1}-x_{2}+x_{3}=4, \\\\\n",
    "2x_{1}-5x_{2}-3x_{3}=-17, \\\\\n",
    "x_{1}+x_{2}-x_{3}=0;\n",
    "\\end{cases}$"
   ]
  },
  {
   "cell_type": "markdown",
   "metadata": {},
   "source": [
    "$\\begin{cases}\n",
    "x_{1}=1, \\\\\n",
    "x_{3}=3, \\\\\n",
    "x_{2}=2;\n",
    "\\end{cases}$\n",
    "\n"
   ]
  },
  {
   "cell_type": "code",
   "execution_count": 2,
   "metadata": {},
   "outputs": [],
   "source": [
    "a = np.array([[3, -1, 1],\n",
    "             [2, -5, -3],\n",
    "             [1, 1, -1]])"
   ]
  },
  {
   "cell_type": "code",
   "execution_count": 3,
   "metadata": {},
   "outputs": [],
   "source": [
    "a_ex = np.array([[3, -1, 1, 4],\n",
    "             [2, -5, -3, -17],\n",
    "             [1, 1, -1, 0]])"
   ]
  },
  {
   "cell_type": "code",
   "execution_count": 4,
   "metadata": {},
   "outputs": [
    {
     "name": "stdout",
     "output_type": "stream",
     "text": [
      "Ранг матрицы коэфициентов: 3\n",
      "Ранг расширенной матрицы: 3\n"
     ]
    }
   ],
   "source": [
    "print(f'Ранг матрицы коэфициентов: {np.linalg.matrix_rank(a)}')\n",
    "print(f'Ранг расширенной матрицы: {np.linalg.matrix_rank(a_ex)}')"
   ]
  },
  {
   "cell_type": "markdown",
   "metadata": {},
   "source": [
    "Система совместимая и имеет единственное решение"
   ]
  },
  {
   "cell_type": "markdown",
   "metadata": {},
   "source": [
    "б) $\\begin{cases}\n",
    "2x_{1}-4x_{2}+6x_{3}=1, \\\\\n",
    "x_{1}-2x_{2}+3x_{3}=-2, \\\\\n",
    "3x_{1}-6x_{2}+9x_{3}=5;\n",
    "\\end{cases}$"
   ]
  },
  {
   "cell_type": "markdown",
   "metadata": {},
   "source": [
    "$\\begin{cases}\n",
    "0=5, \\\\\n",
    "x_{1}-2x_{2}+3x_{3}=-2, \\\\\n",
    "0=11;\n",
    "\\end{cases}$"
   ]
  },
  {
   "cell_type": "code",
   "execution_count": 5,
   "metadata": {},
   "outputs": [],
   "source": [
    "b = np.array([[2, -4, 6],\n",
    "             [1, -2, 3],\n",
    "             [3, -6, 9]])"
   ]
  },
  {
   "cell_type": "code",
   "execution_count": 6,
   "metadata": {},
   "outputs": [],
   "source": [
    "b_ex = np.array([[2, -4, 6, 1],\n",
    "             [1, -2, 3, -2],\n",
    "             [3, -6, 9, 5]])"
   ]
  },
  {
   "cell_type": "code",
   "execution_count": 7,
   "metadata": {},
   "outputs": [
    {
     "name": "stdout",
     "output_type": "stream",
     "text": [
      "Ранг матрицы коэфициентов: 1\n",
      "Ранг расширенной матрицы: 2\n"
     ]
    }
   ],
   "source": [
    "print(f'Ранг матрицы коэфициентов: {np.linalg.matrix_rank(b)}')\n",
    "print(f'Ранг расширенной матрицы: {np.linalg.matrix_rank(b_ex)}')"
   ]
  },
  {
   "cell_type": "markdown",
   "metadata": {},
   "source": [
    "Система несовместимая и не имеет решений"
   ]
  },
  {
   "cell_type": "markdown",
   "metadata": {},
   "source": [
    "в) $\\begin{cases}\n",
    "x_{1}+2x_{2}+5x_{3}=4, \\\\\n",
    "3x_{1}+x_{2}-8x_{3}=-2. \n",
    "\\end{cases}$"
   ]
  },
  {
   "cell_type": "markdown",
   "metadata": {},
   "source": [
    "$\\begin{cases}\n",
    "0=5, \\\\\n",
    "x_{1}-2x_{2}+3x_{3}=-2, \\\\\n",
    "0=11;\n",
    "\\end{cases}$"
   ]
  },
  {
   "cell_type": "code",
   "execution_count": 8,
   "metadata": {},
   "outputs": [],
   "source": [
    "c = np.array([[1, 2, 5],\n",
    "             [3, 2, -8]])"
   ]
  },
  {
   "cell_type": "code",
   "execution_count": 9,
   "metadata": {},
   "outputs": [],
   "source": [
    "c_ex = np.array([[1, 2, 5, 4],\n",
    "             [3, 2, -8, -2]])"
   ]
  },
  {
   "cell_type": "code",
   "execution_count": 10,
   "metadata": {},
   "outputs": [
    {
     "name": "stdout",
     "output_type": "stream",
     "text": [
      "Ранг матрицы коэфициентов: 2\n",
      "Ранг расширенной матрицы: 2\n"
     ]
    }
   ],
   "source": [
    "print(f'Ранг матрицы коэфициентов: {np.linalg.matrix_rank(c)}')\n",
    "print(f'Ранг расширенной матрицы: {np.linalg.matrix_rank(c_ex)}')"
   ]
  },
  {
   "cell_type": "markdown",
   "metadata": {},
   "source": [
    "Система совместимая и имеет бесконечное количество решений"
   ]
  },
  {
   "cell_type": "markdown",
   "metadata": {},
   "source": [
    "#### Проверить на совместность и выяснить, сколько решений будет иметь система линейных уравнений, заданная расширенной матрицей\n",
    "\n",
    "$\\tilde{A}=\\begin{pmatrix}\n",
    "\\left.\\begin{matrix}\n",
    "1 & 3 & -2 & 4\\\\ \n",
    "0 & 5 & 0 & 1\\\\ \n",
    "0 & 0 & 3 & 0\\\\ \n",
    "0 & 0 & 0 & 2\n",
    "\\end{matrix}\\right|\n",
    "\\begin{matrix}\n",
    "3\\\\ \n",
    "2\\\\\n",
    "4\\\\\n",
    "1\n",
    "\\end{matrix}\n",
    "\\end{pmatrix}.$"
   ]
  },
  {
   "cell_type": "code",
   "execution_count": 11,
   "metadata": {},
   "outputs": [],
   "source": [
    "a = np.array([[1, 3, -2, 4],\n",
    "             [0, 5, 0, 1],\n",
    "             [0, 0, 3, 0],\n",
    "             [0, 0, 0, 2]])"
   ]
  },
  {
   "cell_type": "code",
   "execution_count": 12,
   "metadata": {},
   "outputs": [],
   "source": [
    "a_ex = np.array([[1, 3, -2, 4, 3],\n",
    "             [0, 5, 0, 1, 2],\n",
    "             [0, 0, 3, 0, 4],\n",
    "             [0, 0, 0, 2, 1]])"
   ]
  },
  {
   "cell_type": "code",
   "execution_count": 13,
   "metadata": {},
   "outputs": [
    {
     "name": "stdout",
     "output_type": "stream",
     "text": [
      "Ранг матрицы коэфициентов: 4\n",
      "Ранг расширенной матрицы: 4\n"
     ]
    }
   ],
   "source": [
    "print(f'Ранг матрицы коэфициентов: {np.linalg.matrix_rank(a)}')\n",
    "print(f'Ранг расширенной матрицы: {np.linalg.matrix_rank(a_ex)}')"
   ]
  },
  {
   "cell_type": "markdown",
   "metadata": {},
   "source": [
    "Cистема совместима и имеет одно решение, т.к. ранг матрицы коэфициентов и расширеной матрицы совпадают и равны числу неизвестных"
   ]
  },
  {
   "cell_type": "markdown",
   "metadata": {},
   "source": [
    "#### Дана система линейных уравнений, заданная расширенной матрицей\n",
    "\n",
    "$\\tilde{A}=\\begin{pmatrix}\n",
    "\\left.\\begin{matrix}\n",
    "1 & 2 & 3\\\\ \n",
    "4 & 5 & 6\\\\ \n",
    "7 & 8 & 9\n",
    "\\end{matrix}\\right|\n",
    "\\begin{matrix}\n",
    "a\\\\ \n",
    "b\\\\\n",
    "c\n",
    "\\end{matrix}\n",
    "\\end{pmatrix}.$\n",
    "\n",
    "Найти соотношение между параметрами $a$, $b$ и $c$, при которых система является несовместной."
   ]
  },
  {
   "cell_type": "code",
   "execution_count": 14,
   "metadata": {},
   "outputs": [],
   "source": [
    "a = np.array([[1, 2, 3],\n",
    "             [4, 5, 6],\n",
    "             [7, 8, 9]])"
   ]
  },
  {
   "cell_type": "code",
   "execution_count": 15,
   "metadata": {},
   "outputs": [],
   "source": [
    "a_ex = np.array([[1, 2, 3, 1],\n",
    "             [4, 5, 6, 2],\n",
    "             [7, 8, 9, 4]])"
   ]
  },
  {
   "cell_type": "code",
   "execution_count": 16,
   "metadata": {},
   "outputs": [
    {
     "name": "stdout",
     "output_type": "stream",
     "text": [
      "Ранг матрицы коэфициентов: 2\n",
      "Ранг расширенной матрицы: 3\n"
     ]
    }
   ],
   "source": [
    "print(f'Ранг матрицы коэфициентов: {np.linalg.matrix_rank(a)}')\n",
    "print(f'Ранг расширенной матрицы: {np.linalg.matrix_rank(a_ex)}')"
   ]
  },
  {
   "cell_type": "markdown",
   "metadata": {},
   "source": [
    "$\\begin{pmatrix}\n",
    "\\left.\\begin{matrix}\n",
    "1 & 2 & 3\\\\ \n",
    "0 & -3 & -6\\\\ \n",
    "0 & -6 & -12\n",
    "\\end{matrix}\\right|\n",
    "\\begin{matrix}\n",
    "a\\\\ \n",
    "b - 4a\\\\\n",
    "c - 7a\n",
    "\\end{matrix}\n",
    "\\end{pmatrix}\n",
    "\\Rightarrow\n",
    "\\begin{pmatrix}\n",
    "\\left.\\begin{matrix}\n",
    "1 & 2 & 3\\\\ \n",
    "0 & 1 & 2\\\\ \n",
    "0 & 0 & 0\n",
    "\\end{matrix}\\right|\n",
    "\\begin{matrix}\n",
    "a\\\\ \n",
    "(4a-b)/3\\\\\n",
    "c + a - 2b\n",
    "\\end{matrix}\n",
    "\\end{pmatrix}$"
   ]
  },
  {
   "cell_type": "markdown",
   "metadata": {},
   "source": [
    "Система будет несовместной только при условии, если $c+a-2b \\neq 0$"
   ]
  },
  {
   "cell_type": "markdown",
   "metadata": {},
   "source": [
    "### Урок 7. Системы линейных уравнений. Часть 2."
   ]
  },
  {
   "cell_type": "markdown",
   "metadata": {},
   "source": [
    "#### Решить систему уравнений методом Крамера:"
   ]
  },
  {
   "cell_type": "markdown",
   "metadata": {},
   "source": [
    "а) $\\begin{cases}\n",
    "x_{1}-2x_{2}=1 \\\\\n",
    "3x_{1}-4x_{2}=7\n",
    "\\end{cases}$"
   ]
  },
  {
   "cell_type": "markdown",
   "metadata": {},
   "source": [
    "$det A = \\begin{vmatrix}\n",
    "1 & -2\\\\\n",
    "3 & -4\n",
    "\\end{vmatrix} = -4 + 6 = 2$  "
   ]
  },
  {
   "cell_type": "markdown",
   "metadata": {},
   "source": [
    "$det A_1 = \\begin{vmatrix}\n",
    "1 & -2\\\\\n",
    "7 & -4\n",
    "\\end{vmatrix} = -4 + 14 = 10$  "
   ]
  },
  {
   "cell_type": "markdown",
   "metadata": {},
   "source": [
    "$det A_2 = \\begin{vmatrix}\n",
    "1 & 1\\\\\n",
    "3 & 7\n",
    "\\end{vmatrix} = 7 - 3 = 4$  "
   ]
  },
  {
   "cell_type": "markdown",
   "metadata": {},
   "source": [
    "$x_1=\\frac{det A_1}{det A}=5$  \n",
    "$x_2=\\frac{det A_2}{det A}=2$"
   ]
  },
  {
   "cell_type": "code",
   "execution_count": 17,
   "metadata": {},
   "outputs": [
    {
     "name": "stdout",
     "output_type": "stream",
     "text": [
      "х1 = 5\n",
      "х2 = 2\n"
     ]
    }
   ],
   "source": [
    "a = np.array([[1,-2],[3,-4]])\n",
    "a1 = np.array([[1,-2],[7,-4]])\n",
    "a2 = np.array([[1,1],[3,7]])\n",
    "print(f'х1 = {np.linalg.det(a1)/np.linalg.det(a):.0f}')\n",
    "print(f'х2 = {np.linalg.det(a2)/np.linalg.det(a):.0f}')"
   ]
  },
  {
   "cell_type": "markdown",
   "metadata": {},
   "source": [
    "б) $\\begin{cases}\n",
    "2x_{1}-x_{2}+5x_{3}=10 \\\\\n",
    "x_{1}+x_{2}-3x_{3}=-2 \\\\\n",
    "2x_{1}+4x_{2}+x_{3}=1\n",
    "\\end{cases}$"
   ]
  },
  {
   "cell_type": "markdown",
   "metadata": {},
   "source": [
    "$det A = \\begin{vmatrix}\n",
    "2 & -1 & 5\\\\\n",
    "1 & 1 & -3\\\\\n",
    "2 & 4 & 1\n",
    "\\end{vmatrix} = 2 + 6 + 20 + 24 + 1 - 10 = 43$"
   ]
  },
  {
   "cell_type": "markdown",
   "metadata": {},
   "source": [
    "$det A_1 = \\begin{vmatrix}\n",
    "10 & -1 & 5\\\\\n",
    "-2 & 1 & -3\\\\\n",
    "1 & 4 & 1\n",
    "\\end{vmatrix} = 10 + 3 - 40 - 5 - 2 + 120 = 86$"
   ]
  },
  {
   "cell_type": "markdown",
   "metadata": {},
   "source": [
    "$det A_2 = \\begin{vmatrix}\n",
    "2 & 10 & 5\\\\\n",
    "1 & -2 & -3\\\\\n",
    "2 & 1 & 1\n",
    "\\end{vmatrix} = -4 -60 +5 +20 -10 +6 = -43$"
   ]
  },
  {
   "cell_type": "markdown",
   "metadata": {},
   "source": [
    "$det A_3 = \\begin{vmatrix}\n",
    "2 & -1 & 10\\\\\n",
    "1 & 1 & -2\\\\\n",
    "2 & 4 & 1\n",
    "\\end{vmatrix} = 2 + 4 + 40 - 20 + 1 + 16 = 43$"
   ]
  },
  {
   "cell_type": "markdown",
   "metadata": {},
   "source": [
    "$x_1=\\frac{det A_1}{det A}=2$  \n",
    "$x_2=\\frac{det A_2}{det A}=-1$  \n",
    "$x_3=\\frac{det A_3}{det A}=1$"
   ]
  },
  {
   "cell_type": "code",
   "execution_count": 18,
   "metadata": {},
   "outputs": [
    {
     "name": "stdout",
     "output_type": "stream",
     "text": [
      "х1 = 2\n",
      "х2 = -1\n",
      "х2 = 1\n"
     ]
    }
   ],
   "source": [
    "b = np.array([[2, -1, 5], [1, 1, -3], [2, 4, 1]])\n",
    "b1 = np.array([[10, -1, 5], [-2, 1, -3], [1, 4, 1]])\n",
    "b2 = np.array([[2, 10, 5], [1, -2, -3], [2, 1, 1]])\n",
    "b3 = np.array([[2, -1, 10], [1, 1, -2], [2, 4, 1]])\n",
    "print(f'х1 = {np.linalg.det(b1)/np.linalg.det(b):.0f}')\n",
    "print(f'х2 = {np.linalg.det(b2)/np.linalg.det(b):.0f}')\n",
    "print(f'х2 = {np.linalg.det(b3)/np.linalg.det(b):.0f}')"
   ]
  },
  {
   "cell_type": "markdown",
   "metadata": {},
   "source": [
    "#### Найти $L$-матрицу $LU$-разложения для матрицы коэффициентов:"
   ]
  },
  {
   "cell_type": "markdown",
   "metadata": {},
   "source": [
    "а)$\\begin{pmatrix}\n",
    "1 & 2 & 4 \\\\ \n",
    "2 & 9 & 12 \\\\ \n",
    "3 & 26 & 30\n",
    "\\end{pmatrix}$"
   ]
  },
  {
   "cell_type": "markdown",
   "metadata": {},
   "source": [
    "$U = \\begin{pmatrix}\n",
    "1 & 2 & 4 \\\\ \n",
    "0 & 5 & 4 \\\\ \n",
    "0 & 0 & 2\n",
    "\\end{pmatrix}$"
   ]
  },
  {
   "cell_type": "markdown",
   "metadata": {},
   "source": [
    "$L = \\begin{pmatrix}\n",
    "1 & 0 & 0 \\\\ \n",
    "2 & 1 & 0 \\\\ \n",
    "3 & 4 & 1\n",
    "\\end{pmatrix}$"
   ]
  },
  {
   "cell_type": "markdown",
   "metadata": {},
   "source": [
    "б)$\\begin{pmatrix}\n",
    "1 & 1 & 2 & 4\\\\ \n",
    "2 & 5 & 8 & 9\\\\ \n",
    "3 & 18 & 29 & 18\\\\\n",
    "4 & 22 & 53 & 33\n",
    "\\end{pmatrix}$"
   ]
  },
  {
   "cell_type": "markdown",
   "metadata": {},
   "source": [
    "$U=\\begin{pmatrix}\n",
    "1 & 1 & 2 & 4\\\\ \n",
    "0 & 3 & 4 & 1\\\\ \n",
    "0 & 0 & 7 & 2\\\\\n",
    "0 & 0 & 0 & 5\n",
    "\\end{pmatrix}$"
   ]
  },
  {
   "cell_type": "markdown",
   "metadata": {},
   "source": [
    "$L=\\begin{pmatrix}\n",
    "1 & 0 & 0 & 0\\\\ \n",
    "2 & 1 & 0 & 0\\\\ \n",
    "3 & 4 & 1 & 0\\\\\n",
    "4 & 6 & 3 & 1\n",
    "\\end{pmatrix}$"
   ]
  },
  {
   "cell_type": "markdown",
   "metadata": {},
   "source": [
    "#### Решить систему линейных уравнений методом $LU$-разложения"
   ]
  },
  {
   "cell_type": "markdown",
   "metadata": {},
   "source": [
    "$\\begin{cases}\n",
    "2x_{1}+x_{2}+3x_{3}=1 \\\\\n",
    "11x_{1}+7x_{2}+5x_{3}=-6 \\\\\n",
    "9x_{1}+8x_{2}+4x_{3}=-5\n",
    "\\end{cases}$"
   ]
  },
  {
   "cell_type": "markdown",
   "metadata": {},
   "source": [
    "$\\begin{pmatrix}\n",
    "2 & 1 & 3 \\\\ \n",
    "11 & 7 & 5 \\\\ \n",
    "9 & 8 & 4\n",
    "\\end{pmatrix}$"
   ]
  },
  {
   "cell_type": "markdown",
   "metadata": {},
   "source": [
    "$\\begin{pmatrix}\n",
    "2 & 1 & 3 \\\\ \n",
    "0 & \\frac{3}{2} & \\frac{-23}{2} \\\\ \n",
    "0 & 0 & \\frac{52}{3}\n",
    "\\end{pmatrix}$"
   ]
  },
  {
   "cell_type": "markdown",
   "metadata": {},
   "source": [
    "$U=\\begin{pmatrix}\n",
    "2 & 1 & 3 \\\\ \n",
    "0 & 3 & -23 \\\\ \n",
    "0 & 0 & \\frac{52}{9}\n",
    "\\end{pmatrix}$"
   ]
  },
  {
   "cell_type": "markdown",
   "metadata": {},
   "source": [
    "$L=\\begin{pmatrix}\n",
    "1 & 0 & 0 \\\\ \n",
    "\\frac{11}{2} & 1 & 0 \\\\ \n",
    "\\frac{9}{2} & \\frac{7}{2} & 1\n",
    "\\end{pmatrix}$"
   ]
  },
  {
   "cell_type": "markdown",
   "metadata": {},
   "source": [
    "$Ly=b$"
   ]
  },
  {
   "cell_type": "markdown",
   "metadata": {},
   "source": [
    "$\\begin{cases}\n",
    "y_{1}=1, \\\\\n",
    "\\frac{11}{2}y_{1}+y_{2}=-6, \\\\\n",
    "\\frac{9}{2}y_{1}+ \\frac{7}{2}y_{2}+y_{3}=-5.\n",
    "\\end{cases}$  \n",
    "$y_{1} = 1,$  \n",
    "$y_{2}=-6 -\\frac{11}{2} =11.5$  \n",
    "$y_{3}=-5-\\frac{9}{2} - \\frac{7}{2}=-13$"
   ]
  },
  {
   "cell_type": "markdown",
   "metadata": {},
   "source": [
    "$y_{1}=1$"
   ]
  },
  {
   "cell_type": "markdown",
   "metadata": {},
   "source": [
    "$y_{2}=-11.5$"
   ]
  },
  {
   "cell_type": "markdown",
   "metadata": {},
   "source": [
    "$y_{3}= 30.75$"
   ]
  },
  {
   "cell_type": "markdown",
   "metadata": {},
   "source": [
    "$Ux=y$"
   ]
  },
  {
   "cell_type": "markdown",
   "metadata": {},
   "source": [
    "$\\begin{cases}\n",
    "2x_{1}+x_{2}+3x_{3}=1 \\\\\n",
    "1.5x_{2}-11.5x_{3}=-11.5 \\\\\n",
    "-20x_{3}=30.75\n",
    "\\end{cases}$"
   ]
  },
  {
   "cell_type": "markdown",
   "metadata": {},
   "source": [
    "$x_1 = -1$"
   ]
  },
  {
   "cell_type": "markdown",
   "metadata": {},
   "source": [
    "$\\begin{cases}\n",
    "2(-1)+3=1 \\\\\n",
    "11(-1)+5=-6 \\\\\n",
    "9(-1)+4=-5\n",
    "\\end{cases}$"
   ]
  },
  {
   "cell_type": "markdown",
   "metadata": {},
   "source": [
    "#### Решить систему линейных уравнений методом Холецкого"
   ]
  },
  {
   "cell_type": "markdown",
   "metadata": {},
   "source": [
    "$\\begin{cases}\n",
    "81x_{1}-45x_{2}+45x_{3}=531 \\\\\n",
    "-45x_{1}+50x_{2}-15x_{3}=-460 \\\\\n",
    "45x_{1}-15x_{2}+38x_{3}=193\n",
    "\\end{cases}$"
   ]
  },
  {
   "cell_type": "code",
   "execution_count": 19,
   "metadata": {},
   "outputs": [
    {
     "name": "stdout",
     "output_type": "stream",
     "text": [
      "[[ 9.  0.  0.]\n",
      " [-5.  5.  0.]\n",
      " [ 5.  2.  3.]]\n"
     ]
    }
   ],
   "source": [
    "from numpy.linalg import cholesky\n",
    "a = np.array([[81, -45, 45], [-45, 50, -15], [45, -15, 38]])\n",
    "ch = cholesky(a)\n",
    "print(ch)"
   ]
  },
  {
   "cell_type": "markdown",
   "metadata": {},
   "source": [
    "$Ly=b$"
   ]
  },
  {
   "cell_type": "markdown",
   "metadata": {},
   "source": [
    "$\\begin{cases}\n",
    "9y_{1}=531, \\\\\n",
    "-5y_{1}+5y_{2}=-460, \\\\\n",
    "5y_{1}+2y_{2}+3y_{3}=193.\n",
    "\\end{cases}$"
   ]
  },
  {
   "cell_type": "markdown",
   "metadata": {},
   "source": [
    "$L^{T}x=y:$"
   ]
  },
  {
   "cell_type": "markdown",
   "metadata": {},
   "source": [
    "$\\begin{cases}\n",
    "9x_{1}-5x_{2}+5x_{3}=59, \\\\\n",
    "5x_{2}+2x_{3}=-33, \\\\\n",
    "3x_{3}=-12.\n",
    "\\end{cases}$  "
   ]
  },
  {
   "cell_type": "markdown",
   "metadata": {},
   "source": [
    "$x_{1}=6,$  \n",
    "$x_{2}=-5,$  \n",
    "$x_{3}=-4.$"
   ]
  },
  {
   "cell_type": "markdown",
   "metadata": {},
   "source": [
    "#### Написать на Python программу с реализацией одного из изученных алгоритмов решения СЛАУ."
   ]
  },
  {
   "cell_type": "code",
   "execution_count": 21,
   "metadata": {},
   "outputs": [
    {
     "name": "stdout",
     "output_type": "stream",
     "text": [
      "\n",
      " [[ 1 -2]\n",
      " [ 7 -4]]\n",
      "\n",
      " [[1 1]\n",
      " [3 7]]\n",
      "[5.0, 2.0]\n"
     ]
    }
   ],
   "source": [
    "#Минор\n",
    "def submatrix(M,c):\n",
    "    B = [[1]*len(M) for i in range(len(M))]\n",
    "    for l in range(len(M)):\n",
    "        for k in range(len(M)):\n",
    "            B[l][k] = M[l][k]\n",
    "    \n",
    "    B.pop(0)\n",
    "    \n",
    "    for i in range(len(B)):\n",
    "        B[i].pop(c)\n",
    "    return B\n",
    "\n",
    "#Определитель методом Лапласа\n",
    "def det_L(M):\n",
    "    X = 0\n",
    "    if len(M) != len(M[0]):\n",
    "        print('Матрица не квадратная')\n",
    "    else:\n",
    "        if len(M)<=2:\n",
    "            return M[0][0] * M[1][1] - M[0][1] * M[1][0]\n",
    "        else:\n",
    "            for i in range(len(M)):\n",
    "                X = X + ((-1)**i)*M[0][i]*det_L(submatrix(M,i))\n",
    "        return X\n",
    "\n",
    "#Решение методом Крамера\n",
    "def Kramer(A,B):\n",
    "    det_A = det_L(A)\n",
    "    X = []\n",
    "    if det_A == 0:\n",
    "        print('Определитель матрицы не должен быть равен 0')\n",
    "        return X\n",
    "    n = len(A)    \n",
    "    for i in range(n):\n",
    "        matrix = A.copy()\n",
    "        matrix[:,i] = B\n",
    "        print('\\n',matrix)\n",
    "        X.append(det_L(matrix) / det_A)\n",
    "    return X\n",
    "    \n",
    "\n",
    "a = np.array([[1,-2],[3,-4]])\n",
    "b = np.array([1,7])\n",
    "print(Kramer(a,b))"
   ]
  },
  {
   "cell_type": "code",
   "execution_count": null,
   "metadata": {},
   "outputs": [],
   "source": []
  }
 ],
 "metadata": {
  "kernelspec": {
   "display_name": "Python 3",
   "language": "python",
   "name": "python3"
  },
  "language_info": {
   "codemirror_mode": {
    "name": "ipython",
    "version": 3
   },
   "file_extension": ".py",
   "mimetype": "text/x-python",
   "name": "python",
   "nbconvert_exporter": "python",
   "pygments_lexer": "ipython3",
   "version": "3.7.6"
  },
  "toc": {
   "base_numbering": 1,
   "nav_menu": {},
   "number_sections": true,
   "sideBar": true,
   "skip_h1_title": false,
   "title_cell": "Table of Contents",
   "title_sidebar": "Contents",
   "toc_cell": false,
   "toc_position": {},
   "toc_section_display": true,
   "toc_window_display": false
  }
 },
 "nbformat": 4,
 "nbformat_minor": 2
}
